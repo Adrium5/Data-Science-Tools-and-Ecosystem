{
 "cells": [
  {
   "cell_type": "markdown",
   "id": "ac5db7d1-bec6-410d-beeb-6d59d7da778b",
   "metadata": {
    "panel-layout": {
     "height": 10,
     "visible": true,
     "width": 100
    }
   },
   "source": []
  },
  {
   "cell_type": "markdown",
   "id": "43cfcd8c-aadf-4a6d-be84-41fa4b53efc9",
   "metadata": {
    "panel-layout": {
     "height": 60.572914123535156,
     "visible": true,
     "width": 100
    }
   },
   "source": [
    "# Data Science Tools and Ecosystem"
   ]
  },
  {
   "cell_type": "markdown",
   "id": "98be3e4f-d081-4796-8ea5-2ab9cd48ea8f",
   "metadata": {
    "panel-layout": {
     "height": 51.1328125,
     "visible": true,
     "width": 100
    }
   },
   "source": [
    "In this notebook, Data Science Tools and Ecosystem are summarized."
   ]
  },
  {
   "cell_type": "markdown",
   "id": "b97b64f1-6f01-4845-8491-153a8560990f",
   "metadata": {
    "panel-layout": {
     "height": 148.8671875,
     "visible": true,
     "width": 100
    }
   },
   "source": [
    "**Objectives:**\n",
    "- Create a markdown cell\n",
    "- Create a code dell\n",
    "- List popular languages for Data Science\n",
    "- List of libraries used in Data Science\n",
    "- Data Science tools table"
   ]
  },
  {
   "cell_type": "markdown",
   "id": "b64aa364-b692-4d00-b539-6d49d8b2a7bd",
   "metadata": {
    "panel-layout": {
     "height": 131.71875,
     "visible": true,
     "width": 100
    }
   },
   "source": [
    "Some of the popular languages that Data Scientists use are:\n",
    "1. Python\n",
    "2. R\n",
    "3. SQL\n",
    "4. Julia"
   ]
  },
  {
   "cell_type": "markdown",
   "id": "74111ed4-b8d7-4ad9-9e25-3225c1c194fa",
   "metadata": {
    "panel-layout": {
     "height": 148.8671875,
     "visible": true,
     "width": 100
    }
   },
   "source": [
    "Some of the commonly used libraries used by Data Scientists include:\n",
    "- Pandas\n",
    "- NumPy\n",
    "- Matplotlib\n",
    "- Seaborn\n",
    "- Scikit-learn"
   ]
  },
  {
   "cell_type": "markdown",
   "id": "d903cdfc-7820-4340-8807-7bd2896ebeff",
   "metadata": {
    "panel-layout": {
     "height": 122.76040649414062,
     "visible": true,
     "width": 100
    }
   },
   "source": [
    "|Data Science Tools|\n",
    "|------|\n",
    "|RStudio|\n",
    "|Apache Spark|\n",
    "|TensorFlow|"
   ]
  },
  {
   "cell_type": "markdown",
   "id": "90911c19-ea2e-44c9-998a-3d55b5fdef38",
   "metadata": {
    "panel-layout": {
     "height": 44.088539123535156,
     "visible": true,
     "width": 100
    }
   },
   "source": [
    "### Below are a few examples of evaluating arithmetic expressions in Python:"
   ]
  },
  {
   "cell_type": "code",
   "execution_count": 12,
   "id": "c25e9c65-5693-4830-bc0b-a61c253d710a",
   "metadata": {
    "panel-layout": {
     "height": 27.1484375,
     "visible": true,
     "width": 100
    }
   },
   "outputs": [
    {
     "data": {
      "text/plain": [
       "17"
      ]
     },
     "execution_count": 12,
     "metadata": {},
     "output_type": "execute_result"
    }
   ],
   "source": [
    "#This a simple arithmetic expression to mutiply then add integers\n",
    "(3*4)+5"
   ]
  },
  {
   "cell_type": "code",
   "execution_count": 14,
   "id": "7e4d6a36-39c0-4bb5-939a-53cd526d4a1e",
   "metadata": {
    "panel-layout": {
     "height": 27.1484375,
     "visible": true,
     "width": 100
    }
   },
   "outputs": [
    {
     "data": {
      "text/plain": [
       "3.3333333333333335"
      ]
     },
     "execution_count": 14,
     "metadata": {},
     "output_type": "execute_result"
    }
   ],
   "source": [
    "#This will convert 200 minutes to hours by diving by 60\n",
    "200/60"
   ]
  },
  {
   "cell_type": "markdown",
   "id": "b964120a-d6a3-410b-a799-5ffbd77dde05",
   "metadata": {},
   "source": [
    "## Author\n",
    "Juan S. Herrera"
   ]
  },
  {
   "cell_type": "code",
   "execution_count": null,
   "id": "8939239c-97ba-4aef-9243-329d12a8c0fe",
   "metadata": {},
   "outputs": [],
   "source": []
  }
 ],
 "metadata": {
  "kernelspec": {
   "display_name": "Python 3 (ipykernel)",
   "language": "python",
   "name": "python3"
  },
  "language_info": {
   "codemirror_mode": {
    "name": "ipython",
    "version": 3
   },
   "file_extension": ".py",
   "mimetype": "text/x-python",
   "name": "python",
   "nbconvert_exporter": "python",
   "pygments_lexer": "ipython3",
   "version": "3.12.4"
  },
  "panel-cell-order": [
   "ac5db7d1-bec6-410d-beeb-6d59d7da778b",
   "43cfcd8c-aadf-4a6d-be84-41fa4b53efc9",
   "98be3e4f-d081-4796-8ea5-2ab9cd48ea8f",
   "b97b64f1-6f01-4845-8491-153a8560990f",
   "b64aa364-b692-4d00-b539-6d49d8b2a7bd",
   "74111ed4-b8d7-4ad9-9e25-3225c1c194fa",
   "d903cdfc-7820-4340-8807-7bd2896ebeff",
   "90911c19-ea2e-44c9-998a-3d55b5fdef38",
   "c25e9c65-5693-4830-bc0b-a61c253d710a",
   "7e4d6a36-39c0-4bb5-939a-53cd526d4a1e",
   "55aa42b9-f553-4c80-a3ef-018f2cd3faef"
  ]
 },
 "nbformat": 4,
 "nbformat_minor": 5
}
